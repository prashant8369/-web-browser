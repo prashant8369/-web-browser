{
 "cells": [
  {
   "cell_type": "code",
   "execution_count": 1,
   "id": "473f6009",
   "metadata": {},
   "outputs": [
    {
     "ename": "SystemExit",
     "evalue": "0",
     "output_type": "error",
     "traceback": [
      "An exception has occurred, use %tb to see the full traceback.\n",
      "\u001b[1;31mSystemExit\u001b[0m\u001b[1;31m:\u001b[0m 0\n"
     ]
    },
    {
     "name": "stderr",
     "output_type": "stream",
     "text": [
      "C:\\Users\\LENOVO\\anaconda3\\lib\\site-packages\\IPython\\core\\interactiveshell.py:3377: UserWarning: To exit: use 'exit', 'quit', or Ctrl-D.\n",
      "  warn(\"To exit: use 'exit', 'quit', or Ctrl-D.\", stacklevel=1)\n"
     ]
    }
   ],
   "source": [
    "import sys\n",
    "from PyQt5.QtCore import QUrl\n",
    "from PyQt5.QtWidgets import QApplication, QMainWindow, QToolBar, QLineEdit, QAction\n",
    "from PyQt5.QtWebEngineWidgets import QWebEngineView\n",
    "\n",
    "class SimpleBrowser(QMainWindow):\n",
    "    def __init__(self):\n",
    "        super().__init__()\n",
    "        self.initUI()\n",
    "\n",
    "    def initUI(self):\n",
    "        self.setWindowTitle('Simple Web Browser')\n",
    "        self.setGeometry(100, 100, 1024, 768)\n",
    "\n",
    "        # Create a web view\n",
    "        self.webView = QWebEngineView(self)\n",
    "        self.setCentralWidget(self.webView)\n",
    "\n",
    "        # Create navigation bar\n",
    "        navBar = QToolBar()\n",
    "        self.addToolBar(navBar)\n",
    "\n",
    "        # Back button\n",
    "        backBtn = QAction('Back', self)\n",
    "        backBtn.triggered.connect(self.webView.back)\n",
    "        navBar.addAction(backBtn)\n",
    "\n",
    "        # Forward button\n",
    "        forwardBtn = QAction('Forward', self)\n",
    "        forwardBtn.triggered.connect(self.webView.forward)\n",
    "        navBar.addAction(forwardBtn)\n",
    "\n",
    "        # Reload button\n",
    "        reloadBtn = QAction('Reload', self)\n",
    "        reloadBtn.triggered.connect(self.webView.reload)\n",
    "        navBar.addAction(reloadBtn)\n",
    "\n",
    "        # Home button\n",
    "        homeBtn = QAction('Home', self)\n",
    "        homeBtn.triggered.connect(self.navigateHome)\n",
    "        navBar.addAction(homeBtn)\n",
    "\n",
    "        # URL bar\n",
    "        self.urlBar = QLineEdit()\n",
    "        self.urlBar.returnPressed.connect(self.navigateToUrl)\n",
    "        navBar.addWidget(self.urlBar)\n",
    "\n",
    "        # Load a default page\n",
    "        self.navigateHome()\n",
    "\n",
    "    def navigateHome(self):\n",
    "        self.webView.setUrl(QUrl(\"http://www.google.com\"))\n",
    "\n",
    "    def navigateToUrl(self):\n",
    "        q = QUrl(self.urlBar.text())\n",
    "        if q.scheme() == \"\":\n",
    "            q.setScheme(\"http\")\n",
    "        self.webView.setUrl(q)\n",
    "\n",
    "if __name__ == '__main__':\n",
    "    app = QApplication(sys.argv)\n",
    "    browser = SimpleBrowser()\n",
    "    browser.show()\n",
    "    sys.exit(app.exec_())"
   ]
  },
  {
   "cell_type": "code",
   "execution_count": null,
   "id": "9ff4909b",
   "metadata": {},
   "outputs": [],
   "source": []
  }
 ],
 "metadata": {
  "kernelspec": {
   "display_name": "Python 3 (ipykernel)",
   "language": "python",
   "name": "python3"
  },
  "language_info": {
   "codemirror_mode": {
    "name": "ipython",
    "version": 3
   },
   "file_extension": ".py",
   "mimetype": "text/x-python",
   "name": "python",
   "nbconvert_exporter": "python",
   "pygments_lexer": "ipython3",
   "version": "3.9.12"
  }
 },
 "nbformat": 4,
 "nbformat_minor": 5
}
